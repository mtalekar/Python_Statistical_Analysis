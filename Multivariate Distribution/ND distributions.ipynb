{
 "cells": [
  {
   "cell_type": "code",
   "execution_count": 2,
   "metadata": {},
   "outputs": [],
   "source": [
    "import numpy as np\n",
    "import pandas as pd\n",
    "import matplotlib.pyplot as plt"
   ]
  },
  {
   "cell_type": "code",
   "execution_count": 5,
   "metadata": {},
   "outputs": [],
   "source": [
    "dataset = pd.read_csv('height_weight.csv')[['height','weight']]"
   ]
  },
  {
   "cell_type": "code",
   "execution_count": 6,
   "metadata": {},
   "outputs": [
    {
     "data": {
      "text/html": [
       "<div>\n",
       "<style scoped>\n",
       "    .dataframe tbody tr th:only-of-type {\n",
       "        vertical-align: middle;\n",
       "    }\n",
       "\n",
       "    .dataframe tbody tr th {\n",
       "        vertical-align: top;\n",
       "    }\n",
       "\n",
       "    .dataframe thead th {\n",
       "        text-align: right;\n",
       "    }\n",
       "</style>\n",
       "<table border=\"1\" class=\"dataframe\">\n",
       "  <thead>\n",
       "    <tr style=\"text-align: right;\">\n",
       "      <th></th>\n",
       "      <th>height</th>\n",
       "      <th>weight</th>\n",
       "    </tr>\n",
       "  </thead>\n",
       "  <tbody>\n",
       "    <tr>\n",
       "      <td>0</td>\n",
       "      <td>71.74</td>\n",
       "      <td>259.88</td>\n",
       "    </tr>\n",
       "    <tr>\n",
       "      <td>1</td>\n",
       "      <td>71.00</td>\n",
       "      <td>186.73</td>\n",
       "    </tr>\n",
       "    <tr>\n",
       "      <td>2</td>\n",
       "      <td>63.83</td>\n",
       "      <td>172.17</td>\n",
       "    </tr>\n",
       "    <tr>\n",
       "      <td>3</td>\n",
       "      <td>67.74</td>\n",
       "      <td>174.66</td>\n",
       "    </tr>\n",
       "    <tr>\n",
       "      <td>4</td>\n",
       "      <td>67.28</td>\n",
       "      <td>169.20</td>\n",
       "    </tr>\n",
       "  </tbody>\n",
       "</table>\n",
       "</div>"
      ],
      "text/plain": [
       "   height  weight\n",
       "0   71.74  259.88\n",
       "1   71.00  186.73\n",
       "2   63.83  172.17\n",
       "3   67.74  174.66\n",
       "4   67.28  169.20"
      ]
     },
     "execution_count": 6,
     "metadata": {},
     "output_type": "execute_result"
    }
   ],
   "source": [
    "dataset.head()"
   ]
  },
  {
   "cell_type": "markdown",
   "metadata": {},
   "source": [
    "## CoVariance"
   ]
  },
  {
   "cell_type": "code",
   "execution_count": 7,
   "metadata": {},
   "outputs": [
    {
     "name": "stdout",
     "output_type": "stream",
     "text": [
      "[[17698.3298  10886.7211  10191.5438  ...  9768.2288   6992.2231\n",
      "   4852.1306 ]\n",
      " [10886.7211   6696.71645  6269.0941  ...  6008.7016   4301.10545\n",
      "   2984.6767 ]\n",
      " [10191.5438   6269.0941   5868.7778  ...  5625.0128   4026.4561\n",
      "   2794.0886 ]\n",
      " ...\n",
      " [ 9768.2288   6008.7016   5625.0128  ...  5391.3728   3859.2136\n",
      "   2678.0336 ]\n",
      " [ 6992.2231   4301.10545  4026.4561  ...  3859.2136   2762.47445\n",
      "   1916.9707 ]\n",
      " [ 4852.1306   2984.6767   2794.0886  ...  2678.0336   1916.9707\n",
      "   1330.2482 ]]\n"
     ]
    }
   ],
   "source": [
    "covariance = np.cov(dataset)    #here numpy has considered each value as different and computed it's covariance \n",
    "                                    # against all other values\n",
    "print(covariance)"
   ]
  },
  {
   "cell_type": "code",
   "execution_count": 8,
   "metadata": {},
   "outputs": [
    {
     "name": "stdout",
     "output_type": "stream",
     "text": [
      "[[  18.60200779   78.50218098]\n",
      " [  78.50218098 1512.91208783]]\n"
     ]
    }
   ],
   "source": [
    "covariance = np.cov(dataset.T) # rows * columns\n",
    "print(covariance)"
   ]
  },
  {
   "cell_type": "code",
   "execution_count": 9,
   "metadata": {},
   "outputs": [
    {
     "name": "stdout",
     "output_type": "stream",
     "text": [
      "[[  18.60200779   78.50218098]\n",
      " [  78.50218098 1512.91208783]]\n"
     ]
    }
   ],
   "source": [
    "covariance = np.cov(dataset, rowvar= False) \n",
    "print(covariance)"
   ]
  },
  {
   "cell_type": "code",
   "execution_count": 10,
   "metadata": {},
   "outputs": [
    {
     "name": "stdout",
     "output_type": "stream",
     "text": [
      "           height       weight\n",
      "height  18.602008    78.502181\n",
      "weight  78.502181  1512.912088\n"
     ]
    }
   ],
   "source": [
    "covariance = dataset.cov()\n",
    "print(covariance)"
   ]
  },
  {
   "cell_type": "markdown",
   "metadata": {},
   "source": [
    "## Coorelation"
   ]
  },
  {
   "cell_type": "code",
   "execution_count": 12,
   "metadata": {},
   "outputs": [
    {
     "name": "stdout",
     "output_type": "stream",
     "text": [
      "[[1.         0.46794517]\n",
      " [0.46794517 1.        ]]\n"
     ]
    }
   ],
   "source": [
    "corr = np.corrcoef(dataset.T)\n",
    "print(corr)"
   ]
  },
  {
   "cell_type": "code",
   "execution_count": 13,
   "metadata": {},
   "outputs": [
    {
     "name": "stdout",
     "output_type": "stream",
     "text": [
      "          height    weight\n",
      "height  1.000000  0.467945\n",
      "weight  0.467945  1.000000\n"
     ]
    }
   ],
   "source": [
    "corr = dataset.corr()\n",
    "print(corr)"
   ]
  }
 ],
 "metadata": {
  "kernelspec": {
   "display_name": "Python 3",
   "language": "python",
   "name": "python3"
  },
  "language_info": {
   "codemirror_mode": {
    "name": "ipython",
    "version": 3
   },
   "file_extension": ".py",
   "mimetype": "text/x-python",
   "name": "python",
   "nbconvert_exporter": "python",
   "pygments_lexer": "ipython3",
   "version": "3.7.4"
  }
 },
 "nbformat": 4,
 "nbformat_minor": 2
}
